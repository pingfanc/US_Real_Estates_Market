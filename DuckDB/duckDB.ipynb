{
 "cells": [
  {
   "cell_type": "code",
   "execution_count": 1,
   "id": "50a8980a-d168-484f-aea2-abed4aa0f789",
   "metadata": {},
   "outputs": [
    {
     "name": "stdout",
     "output_type": "stream",
     "text": [
      "Requirement already satisfied: duckdb in /usr/local/lib/python3.11/site-packages (0.10.0)\n",
      "\n",
      "\u001b[1m[\u001b[0m\u001b[34;49mnotice\u001b[0m\u001b[1;39;49m]\u001b[0m\u001b[39;49m A new release of pip is available: \u001b[0m\u001b[31;49m23.2.1\u001b[0m\u001b[39;49m -> \u001b[0m\u001b[32;49m24.0\u001b[0m\n",
      "\u001b[1m[\u001b[0m\u001b[34;49mnotice\u001b[0m\u001b[1;39;49m]\u001b[0m\u001b[39;49m To update, run: \u001b[0m\u001b[32;49mpip install --upgrade pip\u001b[0m\n"
     ]
    }
   ],
   "source": [
    "! pip install duckdb"
   ]
  },
  {
   "cell_type": "code",
   "execution_count": 2,
   "id": "f6bc7c67-188f-4a40-ba13-17f47f058777",
   "metadata": {},
   "outputs": [
    {
     "name": "stdout",
     "output_type": "stream",
     "text": [
      "Available schemas: [('information_schema',), ('main',), ('pg_catalog',), ('real_estates',), ('information_schema',), ('main',), ('pg_catalog',), ('information_schema',), ('main',), ('pg_catalog',)]\n"
     ]
    }
   ],
   "source": [
    "import duckdb\n",
    "import os\n",
    "import pandas as pd\n",
    "# Connect to DuckDB with a file path to persist data.\n",
    "# This file will contain both the schema and the data.\n",
    "conn = duckdb.connect(database='database.duckdb', read_only=False)\n",
    "# Create a schema\n",
    "sql_statement_create_schema = \"CREATE SCHEMA IF NOT EXISTS real_estates;\"\n",
    "conn.execute(sql_statement_create_schema)\n",
    "# Check if the schema has been created successfully\n",
    "schemas = conn.execute(\"SELECT schema_name FROM information_schema.schemata;\").fetchall()\n",
    "print(\"Available schemas:\", schemas)\n"
   ]
  },
  {
   "cell_type": "markdown",
   "id": "3c4fbe78-cf8d-4f82-b21b-85394e1ece30",
   "metadata": {},
   "source": [
    "## ZipCode info"
   ]
  },
  {
   "cell_type": "code",
   "execution_count": 3,
   "id": "34d58b68-c1cf-47f4-beef-a6faa4581455",
   "metadata": {},
   "outputs": [
    {
     "name": "stdout",
     "output_type": "stream",
     "text": [
      "(35004, 'Moody', 'AL', 'St. Clair County', 'America/Chicago', 33.60340118408203, -86.49440002441406)\n",
      "(35005, 'Adamsville', 'AL', 'Jefferson County', 'America/Chicago', 33.592899322509766, -86.99400329589844)\n",
      "(35006, 'Adger', 'AL', 'Jefferson County', 'America/Chicago', 33.44620132446289, -87.2229995727539)\n",
      "(35007, 'Alabaster', 'AL', 'Shelby County', 'America/Chicago', 33.21870040893555, -86.78350067138672)\n",
      "(35010, 'Alexander City', 'AL', 'Tallapoosa County', 'America/Chicago', 32.901100158691406, -85.91780090332031)\n",
      "(35011, 'Alexander City', 'AL', 'Tallapoosa County', 'America/Chicago', 32.93939971923828, -85.94660186767578)\n",
      "(35013, 'Allgood', 'AL', 'Blount County', 'America/Chicago', 33.91189956665039, -86.5093994140625)\n",
      "(35014, 'Alpine', 'AL', 'Talladega County', 'America/Chicago', 33.34519958496094, -86.26570129394531)\n",
      "(35015, 'Alton', 'AL', 'Jefferson County', 'America/Chicago', 33.579498291015625, -86.63760375976562)\n",
      "(35016, 'Arab', 'AL', 'Marshall County', 'America/Chicago', 34.321800231933594, -86.49690246582031)\n"
     ]
    }
   ],
   "source": [
    "df_states_zip = pd.read_csv('df_states_zip.csv')\n",
    "df_states_zip = df_states_zip[['zip_code','city','state','county','timezone','lat','lon']]\n",
    "\n",
    "query = \"CREATE TABLE IF NOT EXISTS real_estates.states_info (\\\n",
    "zip_code INT64 PRIMARY KEY,\\\n",
    "city VARCHAR,\\\n",
    "state VARCHAR,\\\n",
    "county VARCHAR,\\\n",
    "timezone VARCHAR,\\\n",
    "lat FLOAT,\\\n",
    "lon FLOAT);\\\n",
    "\"\n",
    "conn.execute(query)\n",
    "\n",
    "\n",
    "query_insert = \"\"\"\n",
    "INSERT INTO real_estates.states_info VALUES (?, ?, ?, ?, ?, ?, ?);\n",
    "\"\"\"\n",
    "data_tuples = [tuple(row) for row in df_states_zip.values]\n",
    "conn.executemany(query_insert, data_tuples)\n",
    "conn.commit()\n",
    "\n",
    "query_select = \"SELECT * FROM real_estates.states_info\"\n",
    "conn.execute(query_select)\n",
    "\n",
    "# Fetch and print the results\n",
    "result = conn.fetchall()\n",
    "for row in result[:10]:\n",
    "    print(row)"
   ]
  },
  {
   "cell_type": "markdown",
   "id": "8ca4289b-7663-41ff-a8c6-36e1ffb69879",
   "metadata": {},
   "source": [
    "## State table"
   ]
  },
  {
   "cell_type": "code",
   "execution_count": 4,
   "id": "22cb5d5c-3776-4169-9083-569d250867ec",
   "metadata": {},
   "outputs": [
    {
     "name": "stdout",
     "output_type": "stream",
     "text": [
      "              state_name state\n",
      "0                Alabama    AL\n",
      "1                 Alaska    AK\n",
      "2                Arizona    AZ\n",
      "3               Arkansas    AR\n",
      "4             California    CA\n",
      "5               Colorado    CO\n",
      "6            Connecticut    CT\n",
      "7               Delaware    DE\n",
      "8   District of Columbia    DC\n",
      "9                Florida    FL\n",
      "10               Georgia    GA\n",
      "11                Hawaii    HI\n",
      "12                 Idaho    ID\n",
      "13              Illinois    IL\n",
      "14               Indiana    IN\n",
      "15                  Iowa    IA\n",
      "16                Kansas    KS\n",
      "17              Kentucky    KY\n",
      "18             Louisiana    LA\n",
      "19                 Maine    ME\n",
      "20              Maryland    MD\n",
      "21         Massachusetts    MA\n",
      "22              Michigan    MI\n",
      "23             Minnesota    MN\n",
      "24           Mississippi    MS\n",
      "25              Missouri    MO\n",
      "26               Montana    MT\n",
      "27              Nebraska    NE\n",
      "28                Nevada    NV\n",
      "29         New Hampshire    NH\n",
      "30            New Jersey    NJ\n",
      "31            New Mexico    NM\n",
      "32              New York    NY\n",
      "33        North Carolina    NC\n",
      "34          North Dakota    ND\n",
      "35                  Ohio    OH\n",
      "36              Oklahoma    OK\n",
      "37                Oregon    OR\n",
      "38          Pennsylvania    PA\n",
      "39          Rhode Island    RI\n",
      "40        South Carolina    SC\n",
      "41          South Dakota    SD\n",
      "42             Tennessee    TN\n",
      "43                 Texas    TX\n",
      "44                  Utah    UT\n",
      "45               Vermont    VT\n",
      "46              Virginia    VA\n",
      "47            Washington    WA\n",
      "48         West Virginia    WV\n",
      "49             Wisconsin    WI\n",
      "50               Wyoming    WY\n",
      "51           Puerto Rico    PR\n"
     ]
    }
   ],
   "source": [
    "df = pd.read_parquet('num_of_houses.parquet')\n",
    "\n",
    "# Extract unique state names from the 'State' column\n",
    "unique_states = df['State'].unique()\n",
    "unique_states_df = pd.DataFrame(unique_states, columns=['state_name'])\n",
    "unique_states_df['state'] = ['AL','AK','AZ','AR','CA','CO','CT','DE','DC','FL','GA','HI','ID','IL','IN','IA',\n",
    "        'KS','KY','LA','ME','MD','MA','MI','MN','MS','MO','MT','NE','NV','NH','NJ','NM',\n",
    "        'NY','NC','ND','OH','OK','OR','PA','RI','SC','SD','TN','TX','UT','VT','VA','WA','WV',\n",
    "        'WI','WY','PR']\n",
    "\n",
    "# Create a new table with unique state names\n",
    "conn.execute(\"CREATE TABLE IF NOT EXISTS real_estates.states (state_name VARCHAR PRIMARY KEY, state VARCHAR UNIQUE)\")\n",
    "\n",
    "# Insert unique state names into the new table\n",
    "conn.register('unique_states_df', unique_states_df)\n",
    "conn.execute(\"INSERT INTO real_estates.states SELECT * FROM unique_states_df\")\n",
    "# Verify the insertion by selecting from the new table\n",
    "states = conn.execute(\"SELECT * FROM real_estates.states\").fetchdf()\n",
    "print(states)\n"
   ]
  },
  {
   "cell_type": "markdown",
   "id": "e42e7252-7c0d-45fe-8987-8e92ace6dedc",
   "metadata": {},
   "source": [
    "## sales tax"
   ]
  },
  {
   "cell_type": "code",
   "execution_count": 5,
   "id": "b991b983-179b-4e74-afad-b553eb6f5be1",
   "metadata": {},
   "outputs": [
    {
     "name": "stdout",
     "output_type": "stream",
     "text": [
      "[(35004, 0.019999999552965164, 0.03999999910593033, 0.0, 0.03999999910593033, 0.10000000149011612), (35173, 0.019999999552965164, 0.03999999910593033, 0.0, 0.03999999910593033, 0.10000000149011612), (35444, 0.0, 0.029999999329447746, 0.029999999329447746, 0.03999999910593033, 0.10000000149011612), (35634, 0.0, 0.04500000178813934, 0.009999999776482582, 0.03999999910593033, 0.0949999988079071), (35962, 0.0, 0.03999999910593033, 0.009999999776482582, 0.03999999910593033, 0.09000000357627869), (36112, 0.0, 0.03500000014901161, 0.02500000037252903, 0.03999999910593033, 0.10000000149011612), (36420, 0.0, 0.03500000014901161, 0.02500000037252903, 0.03999999910593033, 0.10000000149011612), (36583, 0.0, 0.0, 0.009999999776482582, 0.03999999910593033, 0.05000000074505806), (36849, 0.0, 0.03999999910593033, 0.009999999776482582, 0.03999999910593033, 0.09000000357627869), (99585, 0.0, 0.03999999910593033, 0.0, 0.0, 0.03999999910593033)]\n"
     ]
    }
   ],
   "source": [
    "cursor = conn.cursor()\n",
    "\n",
    "data =  pd.read_csv('sales_tax.csv')\n",
    "# Convert DataFrame to list of tuples\n",
    "data = data[['zip_code','additional_rate','city_rate','county_rate','state_rate','total_rate']]\n",
    "\n",
    "query = \"CREATE TABLE IF NOT EXISTS real_estates.sales_tax (\\\n",
    "zip_code INT64 , \\\n",
    "additional_rate FLOAT,\\\n",
    "city_rate FLOAT,\\\n",
    "county_rate FLOAT,\\\n",
    "state_rate FLOAT,\\\n",
    "total_rate FLOAT,\\\n",
    "FOREIGN KEY (zip_code) REFERENCES real_estates.states_info(zip_code)\\\n",
    ");\\\n",
    "\"\n",
    "\n",
    "# FOREIGN KEY (zip_code) REFERENCES real_estates.states_info(zip_code)\n",
    "cursor.execute(query)\n",
    "\n",
    "query_insert = \"\"\"\n",
    "INSERT INTO real_estates.sales_tax VALUES (?, ?, ?, ?, ?, ?);\"\"\"\n",
    "\n",
    "data_tuples = [tuple(row) for row in data.values]\n",
    "cursor.executemany(query_insert, data_tuples)\n",
    "conn.commit()\n",
    "\n",
    "query_select = \"SELECT * FROM real_estates.sales_tax\"\n",
    "cursor.execute(query_select)\n",
    "\n",
    "# Fetch and print the results\n",
    "result = cursor.fetchall()\n",
    "print(result[:10])"
   ]
  },
  {
   "cell_type": "markdown",
   "id": "170eb7a0-6689-4280-ab86-50ff2a919f98",
   "metadata": {},
   "source": [
    "## Median rental price"
   ]
  },
  {
   "cell_type": "code",
   "execution_count": 6,
   "id": "29acba59-5938-4614-b844-9e02011a31d0",
   "metadata": {},
   "outputs": [
    {
     "name": "stdout",
     "output_type": "stream",
     "text": [
      "('CA', 'Los Angeles', datetime.date(2008, 2, 29), 470000.0)\n",
      "('CA', 'Los Angeles', datetime.date(2008, 3, 31), 456000.0)\n",
      "('CA', 'Los Angeles', datetime.date(2008, 4, 30), 457000.0)\n",
      "('CA', 'Los Angeles', datetime.date(2008, 5, 31), 440000.0)\n",
      "('CA', 'Los Angeles', datetime.date(2008, 6, 30), 435000.0)\n",
      "('CA', 'Los Angeles', datetime.date(2008, 7, 31), 420000.0)\n",
      "('CA', 'Los Angeles', datetime.date(2008, 8, 31), 402250.0)\n",
      "('CA', 'Los Angeles', datetime.date(2008, 9, 30), 379000.0)\n",
      "('CA', 'Los Angeles', datetime.date(2008, 10, 31), 370050.0)\n",
      "('CA', 'Los Angeles', datetime.date(2008, 11, 30), 350000.0)\n"
     ]
    }
   ],
   "source": [
    "df_median = pd.read_csv('median_rent_price.csv')\n",
    "\n",
    "query = \"CREATE TABLE IF NOT EXISTS real_estates.median_rental_price (\\\n",
    "State VARCHAR ,\\\n",
    "City VARCHAR ,\\\n",
    "Time DATE,\\\n",
    "Price FLOAT,\\\n",
    "FOREIGN KEY (State) REFERENCES real_estates.states(state)\\\n",
    ");\\\n",
    "\"\n",
    "cursor.execute(query)\n",
    "\n",
    "\n",
    "query_insert = \"\"\"\n",
    "INSERT INTO real_estates.median_rental_price VALUES (?, ?, ?, ?);\n",
    "\"\"\"\n",
    "cursor.executemany(query_insert, df_median.values.tolist())\n",
    "conn.commit()\n",
    "\n",
    "query_select = \"SELECT * FROM real_estates.median_rental_price\"\n",
    "cursor.execute(query_select)\n",
    "\n",
    "# Fetch and print the results\n",
    "result = cursor.fetchall()\n",
    "for row in result[:10]:\n",
    "    print(row)"
   ]
  },
  {
   "cell_type": "markdown",
   "id": "f6f47826-36bf-477e-8c95-92e155ec481b",
   "metadata": {},
   "source": [
    "## New York and San Francisco house list"
   ]
  },
  {
   "cell_type": "code",
   "execution_count": 7,
   "id": "5410092c-0f8a-424e-a960-b5abdfeaca89",
   "metadata": {},
   "outputs": [
    {
     "name": "stdout",
     "output_type": "stream",
     "text": [
      "[({'oid': '65e4f174a8350f04b8ddde87'}, ' CA', '1024 Pacheco St,San Francisco, CA 94116', 4, 4, 2524, 2495000, '1024 Pacheco St,San Francisco', '94116'), ({'oid': '65e4f174a8350f04b8ddde88'}, ' CA', '1567 Union St,San Francisco, CA 94123', 6, 5, 4309, 7495000, '1567 Union St,San Francisco', '94123'), ({'oid': '65e4f174a8350f04b8ddde89'}, ' CA', '967 Natoma St,San Francisco, CA 94103', 1, 1, 1862, 1450000, '967 Natoma St,San Francisco', '94103')]\n"
     ]
    }
   ],
   "source": [
    "ny_file = 'ny.parquet'\n",
    "sf_file = 'sf.parquet' \n",
    "# Use DuckDB to read the Parquet file. This creates a temporary view that you can query.\n",
    "conn.execute(f\"CREATE OR REPLACE VIEW my_parquet_view AS SELECT * FROM '{sf_file}'\")\n",
    "\n",
    "# Now query the data as if it was a table in a database\n",
    "result = conn.execute(\"SELECT * FROM my_parquet_view\").fetchall()\n",
    "\n",
    "# Display the results\n",
    "print(result[:3])\n"
   ]
  },
  {
   "cell_type": "code",
   "execution_count": 8,
   "id": "f823f01c-4b85-4c27-ac33-a0d3865796b4",
   "metadata": {},
   "outputs": [
    {
     "name": "stdout",
     "output_type": "stream",
     "text": [
      "['_id', 'city', 'property-address', 'property-baths', 'property-beds', 'property-floorSpace', 'property-price', 'street', 'zip_code']\n"
     ]
    }
   ],
   "source": [
    "column_info = conn.execute(\"SELECT * FROM my_parquet_view LIMIT 0\").description\n",
    "\n",
    "# Extracting and printing column names\n",
    "column_names = [col[0] for col in column_info]\n",
    "print(column_names)"
   ]
  },
  {
   "cell_type": "code",
   "execution_count": 9,
   "id": "0c81e873-f34a-451a-922b-7427bdd2a362",
   "metadata": {},
   "outputs": [
    {
     "data": {
      "text/plain": [
       "<duckdb.duckdb.DuckDBPyConnection at 0x7f622a918ff0>"
      ]
     },
     "execution_count": 9,
     "metadata": {},
     "output_type": "execute_result"
    }
   ],
   "source": [
    "conn.execute(\"\"\"\n",
    "CREATE TABLE IF NOT EXISTS real_estates.sf_house_list (\n",
    "    _id VARCHAR PRIMARY KEY,\n",
    "    city VARCHAR,\n",
    "    property_address VARCHAR,\n",
    "    property_baths INTEGER,\n",
    "    property_beds INTEGER,\n",
    "    property_floorSpace INTEGER,\n",
    "    property_price INTEGER,\n",
    "    street VARCHAR,\n",
    "    zip_code INT64,\n",
    "    FOREIGN KEY (zip_code) REFERENCES real_estates.states_info(zip_code)\n",
    ");\n",
    "CREATE TABLE IF NOT EXISTS real_estates.ny_house_list (\n",
    "    _id VARCHAR PRIMARY KEY,\n",
    "    city VARCHAR,\n",
    "    property_address VARCHAR,\n",
    "    property_baths INTEGER,\n",
    "    property_beds INTEGER,\n",
    "    property_floorSpace INTEGER,\n",
    "    property_price INTEGER,\n",
    "    street VARCHAR,\n",
    "    zip_code INT64,\n",
    "    FOREIGN KEY (zip_code) REFERENCES real_estates.states_info(zip_code)\n",
    ")\n",
    "\"\"\")\n",
    "conn.execute(f\"COPY real_estates.ny_house_list FROM '{ny_file}' (FORMAT 'parquet')\")\n",
    "conn.execute(f\"COPY real_estates.sf_house_list FROM '{sf_file}' (FORMAT 'parquet')\")"
   ]
  },
  {
   "cell_type": "code",
   "execution_count": 10,
   "id": "4d462148-d938-4c17-8baa-0a17fc1570c5",
   "metadata": {},
   "outputs": [
    {
     "data": {
      "text/html": [
       "<div>\n",
       "<style scoped>\n",
       "    .dataframe tbody tr th:only-of-type {\n",
       "        vertical-align: middle;\n",
       "    }\n",
       "\n",
       "    .dataframe tbody tr th {\n",
       "        vertical-align: top;\n",
       "    }\n",
       "\n",
       "    .dataframe thead th {\n",
       "        text-align: right;\n",
       "    }\n",
       "</style>\n",
       "<table border=\"1\" class=\"dataframe\">\n",
       "  <thead>\n",
       "    <tr style=\"text-align: right;\">\n",
       "      <th></th>\n",
       "      <th>_id</th>\n",
       "      <th>city</th>\n",
       "      <th>property_address</th>\n",
       "      <th>property_baths</th>\n",
       "      <th>property_beds</th>\n",
       "      <th>property_floorSpace</th>\n",
       "      <th>property_price</th>\n",
       "      <th>street</th>\n",
       "      <th>zip_code</th>\n",
       "    </tr>\n",
       "  </thead>\n",
       "  <tbody>\n",
       "    <tr>\n",
       "      <th>0</th>\n",
       "      <td>{'oid': 65e4f174a8350f04b8dddde1}</td>\n",
       "      <td>NY</td>\n",
       "      <td>1074 Union St,Brooklyn, NY 11225</td>\n",
       "      <td>2</td>\n",
       "      <td>3</td>\n",
       "      <td>2000</td>\n",
       "      <td>2750000</td>\n",
       "      <td>1074 Union St,Brooklyn</td>\n",
       "      <td>11225</td>\n",
       "    </tr>\n",
       "    <tr>\n",
       "      <th>1</th>\n",
       "      <td>{'oid': 65e4f174a8350f04b8dddde2}</td>\n",
       "      <td>NY</td>\n",
       "      <td>150-15 72 Road UNIT 5K,Flushing, NY 11367</td>\n",
       "      <td>1</td>\n",
       "      <td>2</td>\n",
       "      <td>1158</td>\n",
       "      <td>348000</td>\n",
       "      <td>150-15 72 Road UNIT 5K,Flushing</td>\n",
       "      <td>11367</td>\n",
       "    </tr>\n",
       "    <tr>\n",
       "      <th>2</th>\n",
       "      <td>{'oid': 65e4f174a8350f04b8dddde3}</td>\n",
       "      <td>NY</td>\n",
       "      <td>162 Continental Pl #A,Staten Island, NY 10303</td>\n",
       "      <td>2</td>\n",
       "      <td>3</td>\n",
       "      <td>1100</td>\n",
       "      <td>478000</td>\n",
       "      <td>162 Continental Pl #A,Staten Island</td>\n",
       "      <td>10303</td>\n",
       "    </tr>\n",
       "    <tr>\n",
       "      <th>3</th>\n",
       "      <td>{'oid': 65e4f174a8350f04b8dddde4}</td>\n",
       "      <td>NY</td>\n",
       "      <td>3322 Mickle Ave,Bronx, NY 10469</td>\n",
       "      <td>6</td>\n",
       "      <td>3</td>\n",
       "      <td>1432</td>\n",
       "      <td>595000</td>\n",
       "      <td>3322 Mickle Ave,Bronx</td>\n",
       "      <td>10469</td>\n",
       "    </tr>\n",
       "    <tr>\n",
       "      <th>4</th>\n",
       "      <td>{'oid': 65e4f174a8350f04b8dddde5}</td>\n",
       "      <td>NY</td>\n",
       "      <td>160 Fordham St,Bronx, NY 10464</td>\n",
       "      <td>7</td>\n",
       "      <td>6</td>\n",
       "      <td>3000</td>\n",
       "      <td>1625000</td>\n",
       "      <td>160 Fordham St,Bronx</td>\n",
       "      <td>10464</td>\n",
       "    </tr>\n",
       "  </tbody>\n",
       "</table>\n",
       "</div>"
      ],
      "text/plain": [
       "                                 _id city  \\\n",
       "0  {'oid': 65e4f174a8350f04b8dddde1}   NY   \n",
       "1  {'oid': 65e4f174a8350f04b8dddde2}   NY   \n",
       "2  {'oid': 65e4f174a8350f04b8dddde3}   NY   \n",
       "3  {'oid': 65e4f174a8350f04b8dddde4}   NY   \n",
       "4  {'oid': 65e4f174a8350f04b8dddde5}   NY   \n",
       "\n",
       "                                property_address  property_baths  \\\n",
       "0               1074 Union St,Brooklyn, NY 11225               2   \n",
       "1      150-15 72 Road UNIT 5K,Flushing, NY 11367               1   \n",
       "2  162 Continental Pl #A,Staten Island, NY 10303               2   \n",
       "3                3322 Mickle Ave,Bronx, NY 10469               6   \n",
       "4                 160 Fordham St,Bronx, NY 10464               7   \n",
       "\n",
       "   property_beds  property_floorSpace  property_price  \\\n",
       "0              3                 2000         2750000   \n",
       "1              2                 1158          348000   \n",
       "2              3                 1100          478000   \n",
       "3              3                 1432          595000   \n",
       "4              6                 3000         1625000   \n",
       "\n",
       "                                street  zip_code  \n",
       "0               1074 Union St,Brooklyn     11225  \n",
       "1      150-15 72 Road UNIT 5K,Flushing     11367  \n",
       "2  162 Continental Pl #A,Staten Island     10303  \n",
       "3                3322 Mickle Ave,Bronx     10469  \n",
       "4                 160 Fordham St,Bronx     10464  "
      ]
     },
     "execution_count": 10,
     "metadata": {},
     "output_type": "execute_result"
    }
   ],
   "source": [
    "# Query the ny_house_list table to see the data\n",
    "query_result = conn.execute(\"SELECT * FROM real_estates.ny_house_list\").fetchall()\n",
    "\n",
    "# Convert the results to a Pandas DataFrame\n",
    "df = pd.DataFrame(query_result, columns=[desc[0] for desc in conn.description])\n",
    "# Display the DataFrame\n",
    "df.head()"
   ]
  },
  {
   "cell_type": "markdown",
   "id": "21e27a66-39c4-43dc-9c08-662527764a8d",
   "metadata": {},
   "source": [
    "## Number of house, house data quantile and household income"
   ]
  },
  {
   "cell_type": "code",
   "execution_count": 11,
   "id": "7b80f0de-a817-47a0-b5d0-b879519af187",
   "metadata": {},
   "outputs": [
    {
     "name": "stdout",
     "output_type": "stream",
     "text": [
      "[('Alaska', 331200, 200900, 105000), ('Arizona', 455200, 336900, 232200), ('Arkansas', 602700, 402800, 262500)]\n"
     ]
    }
   ],
   "source": [
    "num_of_house = 'num_of_houses.parquet'\n",
    "combined_value = 'combined_value_quantile.parquet'\n",
    "income = 'household_income.parquet'\n",
    "# Use DuckDB to read the Parquet file. This creates a temporary view that you can query.\n",
    "conn.execute(f\"CREATE OR REPLACE VIEW my_parquet_view AS SELECT * FROM '{combined_value}'\")\n",
    "\n",
    "# Now you can query the data as if it was a table in a database\n",
    "result = conn.execute(\"SELECT * FROM my_parquet_view\").fetchall()\n",
    "\n",
    "# Display the results\n",
    "print(result[:3])\n"
   ]
  },
  {
   "cell_type": "code",
   "execution_count": 12,
   "id": "89c658c7-ef98-4c4b-b5f4-034433bde670",
   "metadata": {},
   "outputs": [
    {
     "name": "stdout",
     "output_type": "stream",
     "text": [
      "['State', 'Upper_Value', 'Median_Value', 'Lower_Value']\n"
     ]
    }
   ],
   "source": [
    "column_info = conn.execute(\"SELECT * FROM my_parquet_view LIMIT 0\").description\n",
    "# Extracting and printing column names\n",
    "column_names = [col[0] for col in column_info]\n",
    "print(column_names)"
   ]
  },
  {
   "cell_type": "code",
   "execution_count": 13,
   "id": "c9dc4e2e-602f-4ee0-9e0f-a97fd2ea21b8",
   "metadata": {},
   "outputs": [
    {
     "name": "stdout",
     "output_type": "stream",
     "text": [
      "Tables in the database: [('my_parquet_view',), ('unique_states_df',)]\n"
     ]
    }
   ],
   "source": [
    "# SQL statement to create the num_of_houses table & QuantileValue\n",
    "conn.execute( '''\n",
    "CREATE TABLE IF NOT EXISTS real_estates.NumOfHouses (\n",
    "    State VARCHAR,\n",
    "    Total INTEGER,\n",
    "    Less_than_50000 INTEGER,\n",
    "    From_50000_to_99999 INTEGER,\n",
    "    From_100000_to_149999 INTEGER,\n",
    "    From_150000_to_199999 INTEGER,\n",
    "    From_200000_to_299999 INTEGER,\n",
    "    From_300000_to_499999 INTEGER,\n",
    "    From_500000_to_999999 INTEGER,\n",
    "    One_million_or_more INTEGER,\n",
    "    FOREIGN KEY (State) REFERENCES real_estates.states(state_name)\n",
    ");\n",
    "CREATE TABLE IF NOT EXISTS real_estates.income(\n",
    "    state VARCHAR(255),\n",
    "    geo_id VARCHAR(255),\n",
    "    total_households INT,\n",
    "    less_than_10000 DECIMAL,\n",
    "    between_10000_and_14999 DECIMAL,\n",
    "    between_15000_and_24999 DECIMAL,\n",
    "    between_25000_and_34999 DECIMAL,\n",
    "    between_35000_and_49999 DECIMAL,\n",
    "    between_50000_and_74999 DECIMAL,\n",
    "    between_75000_and_99999 DECIMAL,\n",
    "    between_100000_and_149999 DECIMAL,\n",
    "    median_income DECIMAL,\n",
    "    mean_income DECIMAL,\n",
    "    FOREIGN KEY (state) REFERENCES real_estates.states(state_name)\n",
    "  );\n",
    "CREATE TABLE IF NOT EXISTS real_estates.QuantileValue (\n",
    "    State VARCHAR,\n",
    "    UpperValue DECIMAL(10,2),\n",
    "    MedianValue DECIMAL(10,2),\n",
    "    LowerValue DECIMAL(10,2),\n",
    "    FOREIGN KEY (State) REFERENCES real_estates.states(state_name)\n",
    ")\n",
    "'''\n",
    "            )\n",
    "# Execute the SQL statement to create the table\n",
    "conn.execute(f\"COPY real_estates.NumOfHouses FROM '{num_of_house}' (FORMAT 'parquet')\")\n",
    "conn.execute(f\"COPY real_estates.QuantileValue FROM '{combined_value}' (FORMAT 'parquet')\")\n",
    "conn.execute(f\"COPY real_estates.income FROM '{income}' (FORMAT 'parquet')\")\n",
    "# Verify the table creation\n",
    "tables = conn.execute(\"SHOW TABLES\").fetchall()\n",
    "print(\"Tables in the database:\", tables)"
   ]
  },
  {
   "cell_type": "code",
   "execution_count": 14,
   "id": "d0af4e85-0101-47b2-8b0d-a5abb3402672",
   "metadata": {},
   "outputs": [
    {
     "data": {
      "text/html": [
       "<div>\n",
       "<style scoped>\n",
       "    .dataframe tbody tr th:only-of-type {\n",
       "        vertical-align: middle;\n",
       "    }\n",
       "\n",
       "    .dataframe tbody tr th {\n",
       "        vertical-align: top;\n",
       "    }\n",
       "\n",
       "    .dataframe thead th {\n",
       "        text-align: right;\n",
       "    }\n",
       "</style>\n",
       "<table border=\"1\" class=\"dataframe\">\n",
       "  <thead>\n",
       "    <tr style=\"text-align: right;\">\n",
       "      <th></th>\n",
       "      <th>state</th>\n",
       "      <th>geo_id</th>\n",
       "      <th>total_households</th>\n",
       "      <th>less_than_10000</th>\n",
       "      <th>between_10000_and_14999</th>\n",
       "      <th>between_15000_and_24999</th>\n",
       "      <th>between_25000_and_34999</th>\n",
       "      <th>between_35000_and_49999</th>\n",
       "      <th>between_50000_and_74999</th>\n",
       "      <th>between_75000_and_99999</th>\n",
       "      <th>between_100000_and_149999</th>\n",
       "      <th>median_income</th>\n",
       "      <th>mean_income</th>\n",
       "    </tr>\n",
       "  </thead>\n",
       "  <tbody>\n",
       "    <tr>\n",
       "      <th>0</th>\n",
       "      <td>Alabama</td>\n",
       "      <td>0400000US01</td>\n",
       "      <td>2016448</td>\n",
       "      <td>7.600</td>\n",
       "      <td>5.200</td>\n",
       "      <td>9.300</td>\n",
       "      <td>8.600</td>\n",
       "      <td>12.000</td>\n",
       "      <td>16.700</td>\n",
       "      <td>12.600</td>\n",
       "      <td>14.900</td>\n",
       "      <td>59674.000</td>\n",
       "      <td>82956.000</td>\n",
       "    </tr>\n",
       "    <tr>\n",
       "      <th>1</th>\n",
       "      <td>Alaska</td>\n",
       "      <td>0400000US02</td>\n",
       "      <td>274574</td>\n",
       "      <td>4.400</td>\n",
       "      <td>2.500</td>\n",
       "      <td>5.400</td>\n",
       "      <td>5.300</td>\n",
       "      <td>9.100</td>\n",
       "      <td>15.800</td>\n",
       "      <td>13.200</td>\n",
       "      <td>21.800</td>\n",
       "      <td>88121.000</td>\n",
       "      <td>109524.000</td>\n",
       "    </tr>\n",
       "    <tr>\n",
       "      <th>2</th>\n",
       "      <td>Arizona</td>\n",
       "      <td>0400000US04</td>\n",
       "      <td>2850377</td>\n",
       "      <td>5.400</td>\n",
       "      <td>3.000</td>\n",
       "      <td>6.200</td>\n",
       "      <td>7.300</td>\n",
       "      <td>11.000</td>\n",
       "      <td>17.300</td>\n",
       "      <td>13.800</td>\n",
       "      <td>17.800</td>\n",
       "      <td>74568.000</td>\n",
       "      <td>101316.000</td>\n",
       "    </tr>\n",
       "    <tr>\n",
       "      <th>3</th>\n",
       "      <td>Arkansas</td>\n",
       "      <td>0400000US05</td>\n",
       "      <td>1216207</td>\n",
       "      <td>7.300</td>\n",
       "      <td>5.900</td>\n",
       "      <td>9.500</td>\n",
       "      <td>9.100</td>\n",
       "      <td>13.500</td>\n",
       "      <td>18.100</td>\n",
       "      <td>12.600</td>\n",
       "      <td>13.400</td>\n",
       "      <td>55432.000</td>\n",
       "      <td>76853.000</td>\n",
       "    </tr>\n",
       "    <tr>\n",
       "      <th>4</th>\n",
       "      <td>California</td>\n",
       "      <td>0400000US06</td>\n",
       "      <td>13550586</td>\n",
       "      <td>4.800</td>\n",
       "      <td>3.200</td>\n",
       "      <td>5.500</td>\n",
       "      <td>5.900</td>\n",
       "      <td>8.500</td>\n",
       "      <td>13.800</td>\n",
       "      <td>12.000</td>\n",
       "      <td>17.600</td>\n",
       "      <td>91551.000</td>\n",
       "      <td>131504.000</td>\n",
       "    </tr>\n",
       "  </tbody>\n",
       "</table>\n",
       "</div>"
      ],
      "text/plain": [
       "        state       geo_id  total_households less_than_10000  \\\n",
       "0     Alabama  0400000US01           2016448           7.600   \n",
       "1      Alaska  0400000US02            274574           4.400   \n",
       "2     Arizona  0400000US04           2850377           5.400   \n",
       "3    Arkansas  0400000US05           1216207           7.300   \n",
       "4  California  0400000US06          13550586           4.800   \n",
       "\n",
       "  between_10000_and_14999 between_15000_and_24999 between_25000_and_34999  \\\n",
       "0                   5.200                   9.300                   8.600   \n",
       "1                   2.500                   5.400                   5.300   \n",
       "2                   3.000                   6.200                   7.300   \n",
       "3                   5.900                   9.500                   9.100   \n",
       "4                   3.200                   5.500                   5.900   \n",
       "\n",
       "  between_35000_and_49999 between_50000_and_74999 between_75000_and_99999  \\\n",
       "0                  12.000                  16.700                  12.600   \n",
       "1                   9.100                  15.800                  13.200   \n",
       "2                  11.000                  17.300                  13.800   \n",
       "3                  13.500                  18.100                  12.600   \n",
       "4                   8.500                  13.800                  12.000   \n",
       "\n",
       "  between_100000_and_149999 median_income mean_income  \n",
       "0                    14.900     59674.000   82956.000  \n",
       "1                    21.800     88121.000  109524.000  \n",
       "2                    17.800     74568.000  101316.000  \n",
       "3                    13.400     55432.000   76853.000  \n",
       "4                    17.600     91551.000  131504.000  "
      ]
     },
     "execution_count": 14,
     "metadata": {},
     "output_type": "execute_result"
    }
   ],
   "source": [
    "# Query the NumOfHouses table to see the data\n",
    "query_result = conn.execute(\"SELECT * FROM real_estates.income\").fetchall()\n",
    "\n",
    "# Convert the results to a Pandas DataFrame\n",
    "df = pd.DataFrame(query_result, columns=[desc[0] for desc in conn.description])\n",
    "# Display the DataFrame\n",
    "df.head()"
   ]
  },
  {
   "cell_type": "code",
   "execution_count": 15,
   "id": "e2f04f0b-2a00-4ada-bcb3-cd5a2b5304e0",
   "metadata": {},
   "outputs": [
    {
     "data": {
      "text/html": [
       "<div>\n",
       "<style scoped>\n",
       "    .dataframe tbody tr th:only-of-type {\n",
       "        vertical-align: middle;\n",
       "    }\n",
       "\n",
       "    .dataframe tbody tr th {\n",
       "        vertical-align: top;\n",
       "    }\n",
       "\n",
       "    .dataframe thead th {\n",
       "        text-align: right;\n",
       "    }\n",
       "</style>\n",
       "<table border=\"1\" class=\"dataframe\">\n",
       "  <thead>\n",
       "    <tr style=\"text-align: right;\">\n",
       "      <th></th>\n",
       "      <th>State</th>\n",
       "      <th>UpperValue</th>\n",
       "      <th>MedianValue</th>\n",
       "      <th>LowerValue</th>\n",
       "    </tr>\n",
       "  </thead>\n",
       "  <tbody>\n",
       "    <tr>\n",
       "      <th>0</th>\n",
       "      <td>Alaska</td>\n",
       "      <td>331200.00</td>\n",
       "      <td>200900.00</td>\n",
       "      <td>105000.00</td>\n",
       "    </tr>\n",
       "    <tr>\n",
       "      <th>1</th>\n",
       "      <td>Arizona</td>\n",
       "      <td>455200.00</td>\n",
       "      <td>336900.00</td>\n",
       "      <td>232200.00</td>\n",
       "    </tr>\n",
       "    <tr>\n",
       "      <th>2</th>\n",
       "      <td>Arkansas</td>\n",
       "      <td>602700.00</td>\n",
       "      <td>402800.00</td>\n",
       "      <td>262500.00</td>\n",
       "    </tr>\n",
       "    <tr>\n",
       "      <th>3</th>\n",
       "      <td>California</td>\n",
       "      <td>290700.00</td>\n",
       "      <td>179800.00</td>\n",
       "      <td>98300.00</td>\n",
       "    </tr>\n",
       "    <tr>\n",
       "      <th>4</th>\n",
       "      <td>Colorado</td>\n",
       "      <td>1083100.00</td>\n",
       "      <td>715900.00</td>\n",
       "      <td>460900.00</td>\n",
       "    </tr>\n",
       "  </tbody>\n",
       "</table>\n",
       "</div>"
      ],
      "text/plain": [
       "        State  UpperValue MedianValue LowerValue\n",
       "0      Alaska   331200.00   200900.00  105000.00\n",
       "1     Arizona   455200.00   336900.00  232200.00\n",
       "2    Arkansas   602700.00   402800.00  262500.00\n",
       "3  California   290700.00   179800.00   98300.00\n",
       "4    Colorado  1083100.00   715900.00  460900.00"
      ]
     },
     "execution_count": 15,
     "metadata": {},
     "output_type": "execute_result"
    }
   ],
   "source": [
    "# Query the QuantileValue table to see the data\n",
    "query_result = conn.execute(\"SELECT * FROM real_estates.QuantileValue\").fetchall()\n",
    "\n",
    "# Convert the results to a Pandas DataFrame\n",
    "df = pd.DataFrame(query_result, columns=[desc[0] for desc in conn.description])\n",
    "# Display the DataFrame\n",
    "df.head()"
   ]
  },
  {
   "cell_type": "markdown",
   "id": "31715f3e-da6b-407c-b875-c46483806aa2",
   "metadata": {},
   "source": [
    "## US economic index, interst rate data and macro estate data"
   ]
  },
  {
   "cell_type": "code",
   "execution_count": 16,
   "id": "fe209b12-1ced-4ff3-8f1c-2f93f4ea7299",
   "metadata": {},
   "outputs": [],
   "source": [
    "\n",
    "sql_statements = \"\"\"\n",
    "\n",
    "CREATE TABLE IF NOT EXISTS real_estates.us_eco (\n",
    "    date DATE PRIMARY KEY,\n",
    "    gdp_value FLOAT,\n",
    "    unemployment_rate FLOAT,\n",
    "    inflation_rate FLOAT,\n",
    "    income FLOAT\n",
    ");\n",
    "\n",
    "CREATE TABLE IF NOT EXISTS real_estates.us_interest (\n",
    "    date DATE,\n",
    "    interest_rate_multi_family_estate FLOAT,\n",
    "    interest_rate_commercial_estate FLOAT,\n",
    "    interest_owner_occupied_estate FLOAT,\n",
    "    PRIMARY KEY (date),\n",
    ");\n",
    "\n",
    "CREATE TABLE IF NOT EXISTS real_estates.us_estate (\n",
    "    date DATE,\n",
    "    cpi FLOAT,\n",
    "    permits FLOAT,\n",
    "    home_sales FLOAT,\n",
    "    price_index FLOAT,\n",
    "    PRIMARY KEY (date),\n",
    ");\n",
    "\n",
    "\"\"\"\n",
    "# FOREIGN KEY (date) REFERENCES de.us_eco(date)\n",
    "try:\n",
    "    # Execute the SQL statements\n",
    "    conn.execute(sql_statements)\n",
    "    # Commit the transaction\n",
    "    conn.commit()\n",
    "\n",
    "except Exception as e:\n",
    "    # Handle any errors that occurred and print them out\n",
    "    print(\"An error occurred:\", e)\n",
    "\n"
   ]
  },
  {
   "cell_type": "code",
   "execution_count": 17,
   "id": "b88250ac-d74c-4516-973b-dde63985c893",
   "metadata": {},
   "outputs": [
    {
     "data": {
      "text/plain": [
       "<duckdb.duckdb.DuckDBPyConnection at 0x7f622a918ff0>"
      ]
     },
     "execution_count": 17,
     "metadata": {},
     "output_type": "execute_result"
    }
   ],
   "source": [
    "sql_statements = \"\"\"\n",
    "COPY real_estates.us_eco FROM 'us_eco.csv';\n",
    "COPY real_estates.us_estate FROM 'us_estate.csv';\n",
    "COPY real_estates.us_interest FROM 'us_interest.csv';\n",
    "\"\"\"\n",
    "conn.execute(sql_statements)\n",
    "conn.commit()"
   ]
  },
  {
   "cell_type": "code",
   "execution_count": 18,
   "id": "c828906e-29bc-4ee3-a566-9754c0de0354",
   "metadata": {},
   "outputs": [
    {
     "data": {
      "text/html": [
       "<div>\n",
       "<style scoped>\n",
       "    .dataframe tbody tr th:only-of-type {\n",
       "        vertical-align: middle;\n",
       "    }\n",
       "\n",
       "    .dataframe tbody tr th {\n",
       "        vertical-align: top;\n",
       "    }\n",
       "\n",
       "    .dataframe thead th {\n",
       "        text-align: right;\n",
       "    }\n",
       "</style>\n",
       "<table border=\"1\" class=\"dataframe\">\n",
       "  <thead>\n",
       "    <tr style=\"text-align: right;\">\n",
       "      <th></th>\n",
       "      <th>date</th>\n",
       "      <th>gdp_value</th>\n",
       "      <th>unemployment_rate</th>\n",
       "      <th>inflation_rate</th>\n",
       "      <th>income</th>\n",
       "    </tr>\n",
       "  </thead>\n",
       "  <tbody>\n",
       "    <tr>\n",
       "      <th>0</th>\n",
       "      <td>1948-07-01</td>\n",
       "      <td>279.196014</td>\n",
       "      <td>3.6</td>\n",
       "      <td>NaN</td>\n",
       "      <td>NaN</td>\n",
       "    </tr>\n",
       "    <tr>\n",
       "      <th>1</th>\n",
       "      <td>1983-07-01</td>\n",
       "      <td>3689.178955</td>\n",
       "      <td>9.4</td>\n",
       "      <td>NaN</td>\n",
       "      <td>5647.000000</td>\n",
       "    </tr>\n",
       "    <tr>\n",
       "      <th>2</th>\n",
       "      <td>1987-10-01</td>\n",
       "      <td>5007.994141</td>\n",
       "      <td>6.0</td>\n",
       "      <td>NaN</td>\n",
       "      <td>6619.600098</td>\n",
       "    </tr>\n",
       "    <tr>\n",
       "      <th>3</th>\n",
       "      <td>1979-04-01</td>\n",
       "      <td>2591.247070</td>\n",
       "      <td>5.8</td>\n",
       "      <td>NaN</td>\n",
       "      <td>5156.100098</td>\n",
       "    </tr>\n",
       "    <tr>\n",
       "      <th>4</th>\n",
       "      <td>1980-07-01</td>\n",
       "      <td>2856.482910</td>\n",
       "      <td>7.8</td>\n",
       "      <td>NaN</td>\n",
       "      <td>5189.799805</td>\n",
       "    </tr>\n",
       "  </tbody>\n",
       "</table>\n",
       "</div>"
      ],
      "text/plain": [
       "         date    gdp_value  unemployment_rate  inflation_rate       income\n",
       "0  1948-07-01   279.196014                3.6             NaN          NaN\n",
       "1  1983-07-01  3689.178955                9.4             NaN  5647.000000\n",
       "2  1987-10-01  5007.994141                6.0             NaN  6619.600098\n",
       "3  1979-04-01  2591.247070                5.8             NaN  5156.100098\n",
       "4  1980-07-01  2856.482910                7.8             NaN  5189.799805"
      ]
     },
     "execution_count": 18,
     "metadata": {},
     "output_type": "execute_result"
    }
   ],
   "source": [
    "# Query the us_eco table to see the data\n",
    "query_result = conn.execute(\"SELECT * FROM real_estates.us_eco\").fetchall()\n",
    "\n",
    "# Convert the results to a Pandas DataFrame\n",
    "df = pd.DataFrame(query_result, columns=[desc[0] for desc in conn.description])\n",
    "# Display the DataFrame\n",
    "df.head()"
   ]
  },
  {
   "cell_type": "code",
   "execution_count": 19,
   "id": "3a1b1b8b-7dd2-4fe8-b878-ed917f61b0aa",
   "metadata": {},
   "outputs": [
    {
     "name": "stdout",
     "output_type": "stream",
     "text": [
      "Tables in the 'real_estates' schema: ['income', 'median_rental_price', 'NumOfHouses', 'ny_house_list', 'QuantileValue', 'sales_tax', 'sf_house_list', 'states', 'states_info', 'us_eco', 'us_estate', 'us_interest']\n"
     ]
    }
   ],
   "source": [
    "# Execute the SQL query to get table names\n",
    "cursor.execute(\"SELECT table_name FROM information_schema.tables WHERE table_schema = 'real_estates'\")\n",
    "\n",
    "# Fetch the results\n",
    "tables = cursor.fetchall()\n",
    "\n",
    "# Extract the table names from the query results\n",
    "table_names = [table[0] for table in tables]\n",
    "\n",
    "# Print the table names\n",
    "print(\"Tables in the 'real_estates' schema:\", table_names)"
   ]
  },
  {
   "cell_type": "markdown",
   "id": "94db01d2-fb9a-453c-b843-4a8f55338e95",
   "metadata": {},
   "source": [
    "## Example of data query in duckDB"
   ]
  },
  {
   "cell_type": "markdown",
   "id": "2743239a-b4ab-4ee9-9bf9-0937eedc1882",
   "metadata": {},
   "source": [
    "### Compute the house price to income ratio in New York city"
   ]
  },
  {
   "cell_type": "markdown",
   "id": "aa53de2d-f3e3-4a10-b9c8-db88f5cff47d",
   "metadata": {},
   "source": [
    "To calculate the mean selling price of the house list in New York City and the mean household income in New York City to determine the household house price ratio：\n",
    "1.Calculate the mean selling price of houses in New York City from the ny_house_list table.\n",
    "2.Calculate the mean household income in New York from the income table.\n",
    "3.Compute the house price to income ratio."
   ]
  },
  {
   "cell_type": "code",
   "execution_count": 20,
   "id": "b7c29363-5654-41bf-8c60-e65bf0e85b13",
   "metadata": {},
   "outputs": [
    {
     "name": "stdout",
     "output_type": "stream",
     "text": [
      "Mean Selling Price in New York City: 946309.1463414634\n",
      "Mean Household Income in New York City: 119130.0\n",
      "Household House Price Ratio in New York City: 7.943499927318588\n"
     ]
    }
   ],
   "source": [
    "conn = duckdb.connect(database='database.duckdb') \n",
    "\n",
    "# Query to calculate the mean selling price of houses in New York City\n",
    "query_mean_selling_price_ny = \"\"\"\n",
    "SELECT AVG(property_price) AS mean_selling_price\n",
    "FROM real_estates.ny_house_list\n",
    "\"\"\"\n",
    "\n",
    "# Execute the query\n",
    "mean_selling_price_result = conn.execute(query_mean_selling_price_ny).fetchall()\n",
    "mean_selling_price_ny = mean_selling_price_result[0][0] if mean_selling_price_result else None\n",
    "\n",
    "# Query to calculate the mean household income in New York\n",
    "query_mean_income_ny = \"\"\"\n",
    "SELECT AVG(mean_income) AS mean_income\n",
    "FROM real_estates.income\n",
    "WHERE state = 'New York'\n",
    "\"\"\"\n",
    "\n",
    "# Execute the query\n",
    "mean_income_result = conn.execute(query_mean_income_ny).fetchall()\n",
    "mean_income_ny = mean_income_result[0][0] if mean_income_result else None\n",
    "\n",
    "# Compute the house price to income ratio\n",
    "if mean_selling_price_ny and mean_income_ny:\n",
    "    house_price_income_ratio = mean_selling_price_ny / mean_income_ny\n",
    "    print(f\"Mean Selling Price in New York City: {mean_selling_price_ny}\")\n",
    "    print(f\"Mean Household Income in New York City: {mean_income_ny}\")\n",
    "    print(f\"Household House Price Ratio in New York City: {house_price_income_ratio}\")\n",
    "else:\n",
    "    print(\"Could not calculate the ratio due to missing data.\")\n",
    "\n",
    "# Close the connection\n",
    "conn.close()"
   ]
  },
  {
   "cell_type": "markdown",
   "id": "79ce6cf9-093f-4a99-b8ef-77e422f3b7d9",
   "metadata": {},
   "source": [
    "### Relation of the median rental price in California and the US GDP"
   ]
  },
  {
   "cell_type": "code",
   "execution_count": 21,
   "id": "a575106e-983d-425a-979c-b71f6cec9747",
   "metadata": {},
   "outputs": [
    {
     "name": "stdout",
     "output_type": "stream",
     "text": [
      "        Eco_Date Rental_Date     GDP_Value  Median_Rental_Price\n",
      "0     2008-04-01  2008-04-30  14865.701172             283500.0\n",
      "1     2008-10-01  2008-10-31  14608.208984             251500.0\n",
      "2     2008-01-01  2008-02-29  14706.538086             279000.0\n",
      "3     2008-07-01  2008-07-31  14898.999023             265000.0\n",
      "4     2008-01-01  2008-03-31  14706.538086             260000.0\n",
      "...          ...         ...           ...                  ...\n",
      "6106  2019-01-01  2019-01-31  21104.132812             600000.0\n",
      "6107  2020-01-01  2020-02-29  21706.513672             831500.0\n",
      "6108  2018-10-01  2018-10-31  20917.867188             625000.0\n",
      "6109  2018-04-01  2018-04-30  20580.912109             625000.0\n",
      "6110  2018-07-01  2018-09-30  20798.730469             625000.0\n",
      "\n",
      "[6111 rows x 4 columns]\n"
     ]
    }
   ],
   "source": [
    "conn = duckdb.connect(database='database.duckdb') \n",
    "query = \"\"\"\n",
    "SELECT\n",
    "    eco.date AS eco_date,\n",
    "    mrp.Time AS rental_date,\n",
    "    eco.gdp_value,\n",
    "    mrp.Price\n",
    "FROM\n",
    "    real_estates.median_rental_price mrp\n",
    "LEFT JOIN LATERAL (\n",
    "    SELECT date, gdp_value\n",
    "    FROM real_estates.us_eco\n",
    "    WHERE date <= mrp.Time\n",
    "    ORDER BY date DESC\n",
    "    LIMIT 1\n",
    ") eco ON TRUE\n",
    "WHERE\n",
    "    mrp.State = 'CA'\n",
    "\"\"\"\n",
    "\n",
    "result = conn.execute(query).fetchall()\n",
    "\n",
    "# Check if the result is not empty and convert it to a pandas DataFrame\n",
    "if result:\n",
    "    df = pd.DataFrame(result, columns=['Eco_Date', 'Rental_Date', 'GDP_Value', 'Median_Rental_Price'])\n",
    "    print(df)\n",
    "else:\n",
    "    print(\"No matching data found.\")"
   ]
  },
  {
   "cell_type": "code",
   "execution_count": 22,
   "id": "7bd3f4a6-d215-4076-bcb4-9840e410a06e",
   "metadata": {},
   "outputs": [
    {
     "data": {
      "image/png": "[encoded data removed]",
      "text/plain": [
       "<Figure size 1200x600 with 2 Axes>"
      ]
     },
     "metadata": {},
     "output_type": "display_data"
    }
   ],
   "source": [
    "import matplotlib.pyplot as plt\n",
    "\n",
    "# Convert 'Eco_Date' to datetime \n",
    "df['Eco_Date'] = pd.to_datetime(df['Eco_Date'])\n",
    "\n",
    "# Group by 'Eco_Date' and calculate the mean of the 'Median_Rental_Price'\n",
    "df_agg = df.groupby('Eco_Date').agg({'GDP_Value':'mean', 'Median_Rental_Price':'mean'}).reset_index()\n",
    "\n",
    "# Plotting the graph with a secondary y-axis\n",
    "fig, ax1 = plt.subplots(figsize=(12, 6))\n",
    "\n",
    "ax2 = ax1.twinx()\n",
    "ax1.plot(df_agg['Eco_Date'], df_agg['GDP_Value'], label='GDP Value', color='blue')\n",
    "ax2.plot(df_agg['Eco_Date'], df_agg['Median_Rental_Price'], label='Median Rental Price', color='red')\n",
    "\n",
    "# Titles and labels\n",
    "ax1.set_xlabel('Date')\n",
    "ax1.set_ylabel('GDP Value', color='blue')\n",
    "ax2.set_ylabel('Median Rental Price', color='red')\n",
    "\n",
    "# Legend\n",
    "ax1.legend(loc='upper left')\n",
    "ax2.legend(loc='upper right')\n",
    "\n",
    "# Show plot\n",
    "plt.title('GDP Value and Median Rental Price Over Time')\n",
    "plt.show()\n"
   ]
  },
  {
   "cell_type": "code",
   "execution_count": null,
   "id": "1c8ac9e2-6c03-4077-8fb4-b45a9a03913e",
   "metadata": {},
   "outputs": [],
   "source": []
  }
 ],
 "metadata": {
  "ai8-sym": {
   "notebook_id": "0812610d-6e17-4fcd-8d5c-b60e1648a986"
  },
  "kernelspec": {
   "display_name": "Python 3 (ipykernel)",
   "language": "python",
   "name": "python3"
  },
  "language_info": {
   "codemirror_mode": {
    "name": "ipython",
    "version": 3
   },
   "file_extension": ".py",
   "mimetype": "text/x-python",
   "name": "python",
   "nbconvert_exporter": "python",
   "pygments_lexer": "ipython3",
   "version": "3.11.6"
  }
 },
 "nbformat": 4,
 "nbformat_minor": 5
}
