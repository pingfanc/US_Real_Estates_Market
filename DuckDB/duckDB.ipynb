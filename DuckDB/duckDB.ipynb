{
 "cells": [
  {
   "cell_type": "code",
   "execution_count": 23,
   "id": "f6bc7c67-188f-4a40-ba13-17f47f058777",
   "metadata": {},
   "outputs": [
    {
     "name": "stdout",
     "output_type": "stream",
     "text": [
      "[({'oid': '65e4f174a8350f04b8ddde87'}, ' CA', '1024 Pacheco St,San Francisco, CA 94116', 4, 4, 2524, 2495000, '1024 Pacheco St,San Francisco', '94116'), ({'oid': '65e4f174a8350f04b8ddde88'}, ' CA', '1567 Union St,San Francisco, CA 94123', 6, 5, 4309, 7495000, '1567 Union St,San Francisco', '94123'), ({'oid': '65e4f174a8350f04b8ddde89'}, ' CA', '967 Natoma St,San Francisco, CA 94103', 1, 1, 1862, 1450000, '967 Natoma St,San Francisco', '94103')]\n"
     ]
    }
   ],
   "source": [
    "import duckdb\n",
    "import pandas as pd\n",
    "# Connect to DuckDB. This does not create a physical database file, \n",
    "# DuckDB operates in-memory by default but can also persist to disk.\n",
    "conn = duckdb.connect(database='duckdb_data.duckdb', read_only=False)\n",
    "\n",
    "ny_file = 'ny.parquet'\n",
    "sf_file = 'sf.parquet' \n",
    "# Use DuckDB to read the Parquet file. This creates a temporary view that you can query.\n",
    "conn.execute(f\"CREATE OR REPLACE VIEW my_parquet_view AS SELECT * FROM '{sf_file}'\")\n",
    "\n",
    "# Now you can query the data as if it was a table in a database\n",
    "result = conn.execute(\"SELECT * FROM my_parquet_view\").fetchall()\n",
    "\n",
    "# Display the results\n",
    "print(result[:3])\n"
   ]
  },
  {
   "cell_type": "code",
   "execution_count": 24,
   "id": "f823f01c-4b85-4c27-ac33-a0d3865796b4",
   "metadata": {},
   "outputs": [
    {
     "name": "stdout",
     "output_type": "stream",
     "text": [
      "['_id', 'city', 'property-address', 'property-baths', 'property-beds', 'property-floorSpace', 'property-price', 'street', 'zip_code']\n"
     ]
    }
   ],
   "source": [
    "column_info = conn.execute(\"SELECT * FROM my_parquet_view LIMIT 0\").description\n",
    "\n",
    "# Extracting and printing column names\n",
    "column_names = [col[0] for col in column_info]\n",
    "print(column_names)"
   ]
  },
  {
   "cell_type": "code",
   "execution_count": 25,
   "id": "0c81e873-f34a-451a-922b-7427bdd2a362",
   "metadata": {},
   "outputs": [
    {
     "data": {
      "text/plain": [
       "<duckdb.duckdb.DuckDBPyConnection at 0x7fca6c4d4b70>"
      ]
     },
     "execution_count": 25,
     "metadata": {},
     "output_type": "execute_result"
    }
   ],
   "source": [
    "conn.execute(\"\"\"\n",
    "CREATE TABLE IF NOT EXISTS sf_house_list (\n",
    "    _id VARCHAR PRIMARY KEY,\n",
    "    city VARCHAR,\n",
    "    property_address VARCHAR,\n",
    "    property_baths INTEGER,\n",
    "    property_beds INTEGER,\n",
    "    property_floorSpace INTEGER,\n",
    "    property_price INTEGER,\n",
    "    street VARCHAR,\n",
    "    zip_code VARCHAR,\n",
    "    -- FOREIGN KEY (zip_code) REFERENCES zip_codes(zip_code)\n",
    ");\n",
    "CREATE TABLE IF NOT EXISTS ny_house_list (\n",
    "    _id VARCHAR PRIMARY KEY,\n",
    "    city VARCHAR,\n",
    "    property_address VARCHAR,\n",
    "    property_baths INTEGER,\n",
    "    property_beds INTEGER,\n",
    "    property_floorSpace INTEGER,\n",
    "    property_price INTEGER,\n",
    "    street VARCHAR,\n",
    "    zip_code VARCHAR,\n",
    "    -- FOREIGN KEY (zip_code) REFERENCES zip_codes(zip_code)\n",
    ")\n",
    "\"\"\")\n",
    "conn.execute(f\"COPY ny_house_list FROM '{ny_file}' (FORMAT 'parquet')\")\n",
    "conn.execute(f\"COPY sf_house_list FROM '{sf_file}' (FORMAT 'parquet')\")"
   ]
  },
  {
   "cell_type": "code",
   "execution_count": 26,
   "id": "4d462148-d938-4c17-8baa-0a17fc1570c5",
   "metadata": {},
   "outputs": [
    {
     "name": "stdout",
     "output_type": "stream",
     "text": [
      "                                   _id city  \\\n",
      "0    {'oid': 65e4f174a8350f04b8dddde1}   NY   \n",
      "1    {'oid': 65e4f174a8350f04b8dddde2}   NY   \n",
      "2    {'oid': 65e4f174a8350f04b8dddde3}   NY   \n",
      "3    {'oid': 65e4f174a8350f04b8dddde4}   NY   \n",
      "4    {'oid': 65e4f174a8350f04b8dddde5}   NY   \n",
      "..                                 ...  ...   \n",
      "159  {'oid': 65e4f174a8350f04b8ddde80}   NY   \n",
      "160  {'oid': 65e4f174a8350f04b8ddde81}   NJ   \n",
      "161  {'oid': 65e4f174a8350f04b8ddde82}   NJ   \n",
      "162  {'oid': 65e4f174a8350f04b8ddde83}   NY   \n",
      "163  {'oid': 65e4f174a8350f04b8ddde84}   NY   \n",
      "\n",
      "                                      property_address  property_baths  \\\n",
      "0                     1074 Union St,Brooklyn, NY 11225               2   \n",
      "1            150-15 72 Road UNIT 5K,Flushing, NY 11367               1   \n",
      "2        162 Continental Pl #A,Staten Island, NY 10303               2   \n",
      "3                      3322 Mickle Ave,Bronx, NY 10469               6   \n",
      "4                       160 Fordham St,Bronx, NY 10464               7   \n",
      "..                                                 ...             ...   \n",
      "159               3267 Wolfson Drive,Baldwin, NY 11510               3   \n",
      "160      300 Winston Dr #1802,Cliffside Park, NJ 07010               2   \n",
      "161  Allaire: Build On Your Own Lot Plan in Mayfair...               5   \n",
      "162              84 Lookout Circle,Larchmont, NY 10538               3   \n",
      "163                19 Egrit Ct,Staten Island, NY 10314               3   \n",
      "\n",
      "     property_beds  property_floorSpace  property_price  \\\n",
      "0                3                 2000         2750000   \n",
      "1                2                 1158          348000   \n",
      "2                3                 1100          478000   \n",
      "3                3                 1432          595000   \n",
      "4                6                 3000         1625000   \n",
      "..             ...                  ...             ...   \n",
      "159              4                 2414          999999   \n",
      "160              2                 1158          590000   \n",
      "161              5                 4300          750000   \n",
      "162              3                 2061         1479000   \n",
      "163              3                 1350          589000   \n",
      "\n",
      "                                                street zip_code  \n",
      "0                               1074 Union St,Brooklyn    11225  \n",
      "1                      150-15 72 Road UNIT 5K,Flushing    11367  \n",
      "2                  162 Continental Pl #A,Staten Island    10303  \n",
      "3                                3322 Mickle Ave,Bronx    10469  \n",
      "4                                 160 Fordham St,Bronx    10464  \n",
      "..                                                 ...      ...  \n",
      "159                         3267 Wolfson Drive,Baldwin    11510  \n",
      "160                300 Winston Dr #1802,Cliffside Park    07010  \n",
      "161  Allaire: Build On Your Own Lot Plan in Mayfair...    07045  \n",
      "162                        84 Lookout Circle,Larchmont    10538  \n",
      "163                          19 Egrit Ct,Staten Island    10314  \n",
      "\n",
      "[164 rows x 9 columns]\n"
     ]
    }
   ],
   "source": [
    "\n",
    "# Query the ny_house_list table to see the data\n",
    "query_result = conn.execute(\"SELECT * FROM ny_house_list\").fetchall()\n",
    "\n",
    "# Convert the results to a Pandas DataFrame\n",
    "df = pd.DataFrame(query_result, columns=[desc[0] for desc in conn.description])\n",
    "# Display the DataFrame\n",
    "print(df)\n",
    "# Close the connection when done\n",
    "conn.close()"
   ]
  },
  {
   "cell_type": "code",
   "execution_count": null,
   "id": "7b80f0de-a817-47a0-b5d0-b879519af187",
   "metadata": {},
   "outputs": [],
   "source": []
  }
 ],
 "metadata": {
  "ai8-sym": {
   "notebook_id": "84cb763b-d3b0-41c9-b24c-1105e474b94a"
  },
  "kernelspec": {
   "display_name": "Python 3 (ipykernel)",
   "language": "python",
   "name": "python3"
  },
  "language_info": {
   "codemirror_mode": {
    "name": "ipython",
    "version": 3
   },
   "file_extension": ".py",
   "mimetype": "text/x-python",
   "name": "python",
   "nbconvert_exporter": "python",
   "pygments_lexer": "ipython3",
   "version": "3.11.6"
  }
 },
 "nbformat": 4,
 "nbformat_minor": 5
}
