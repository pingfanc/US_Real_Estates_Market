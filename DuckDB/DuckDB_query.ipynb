{
 "cells": [
  {
   "cell_type": "code",
   "execution_count": 1,
   "id": "7cfac522-beca-40be-a3a3-b4e2278bab10",
   "metadata": {},
   "outputs": [
    {
     "name": "stdout",
     "output_type": "stream",
     "text": [
      "Collecting duckdb\n",
      "  Obtaining dependency information for duckdb from https://files.pythonhosted.org/packages/99/61/1ef0d3d13908b5ae6637103e0dbeafc58028f662caa366ecd871154dbc9f/duckdb-0.10.0-cp311-cp311-manylinux_2_17_x86_64.manylinux2014_x86_64.whl.metadata\n",
      "  Using cached duckdb-0.10.0-cp311-cp311-manylinux_2_17_x86_64.manylinux2014_x86_64.whl.metadata (763 bytes)\n",
      "Using cached duckdb-0.10.0-cp311-cp311-manylinux_2_17_x86_64.manylinux2014_x86_64.whl (17.8 MB)\n",
      "Installing collected packages: duckdb\n",
      "Successfully installed duckdb-0.10.0\n",
      "\u001b[33mWARNING: There was an error checking the latest version of pip.\u001b[0m\u001b[33m\n",
      "\u001b[0mNote: you may need to restart the kernel to use updated packages.\n"
     ]
    }
   ],
   "source": [
    "pip install duckdb"
   ]
  },
  {
   "cell_type": "markdown",
   "id": "3fc7af5d-7ba4-4a58-be28-0155a3cb773c",
   "metadata": {},
   "source": [
    "### ZipCode info"
   ]
  },
  {
   "cell_type": "code",
   "execution_count": 13,
   "id": "4d1fe3dd-b820-4476-bc85-ddff1eec9fde",
   "metadata": {},
   "outputs": [
    {
     "name": "stdout",
     "output_type": "stream",
     "text": [
      "(35004, 'Moody', 'AL', 'St. Clair County', 'America/Chicago', 33.60340118408203, -86.49440002441406)\n",
      "(35005, 'Adamsville', 'AL', 'Jefferson County', 'America/Chicago', 33.592899322509766, -86.99400329589844)\n",
      "(35006, 'Adger', 'AL', 'Jefferson County', 'America/Chicago', 33.44620132446289, -87.2229995727539)\n",
      "(35007, 'Alabaster', 'AL', 'Shelby County', 'America/Chicago', 33.21870040893555, -86.78350067138672)\n",
      "(35010, 'Alexander City', 'AL', 'Tallapoosa County', 'America/Chicago', 32.901100158691406, -85.91780090332031)\n",
      "(35011, 'Alexander City', 'AL', 'Tallapoosa County', 'America/Chicago', 32.93939971923828, -85.94660186767578)\n",
      "(35013, 'Allgood', 'AL', 'Blount County', 'America/Chicago', 33.91189956665039, -86.5093994140625)\n",
      "(35014, 'Alpine', 'AL', 'Talladega County', 'America/Chicago', 33.34519958496094, -86.26570129394531)\n",
      "(35015, 'Alton', 'AL', 'Jefferson County', 'America/Chicago', 33.579498291015625, -86.63760375976562)\n",
      "(35016, 'Arab', 'AL', 'Marshall County', 'America/Chicago', 34.321800231933594, -86.49690246582031)\n"
     ]
    }
   ],
   "source": [
    "import duckdb\n",
    "duckdb_conn = duckdb.connect(database=':memory:')\n",
    "duckdb_cursor = duckdb_conn.cursor()\n",
    "import pandas as pd\n",
    "df_states_zip = pd.read_csv('df_states_zip.csv')\n",
    "df_states_zip = df_states_zip[['zip_code','city','state','county','timezone','lat','lon']]\n",
    "\n",
    "query = \"CREATE TABLE states_info (\\\n",
    "zip_code INT64 PRIMARY KEY,\\\n",
    "city VARCHAR,\\\n",
    "state VARCHAR,\\\n",
    "county VARCHAR,\\\n",
    "timezone VARCHAR,\\\n",
    "lat FLOAT,\\\n",
    "lon FLOAT);\\\n",
    "\"\n",
    "duckdb_cursor.execute(query)\n",
    "\n",
    "\n",
    "query_insert = \"\"\"\n",
    "INSERT INTO states_info VALUES (?, ?, ?, ?, ?, ?, ?);\n",
    "\"\"\"\n",
    "data_tuples = [tuple(row) for row in df_states_zip.values]\n",
    "duckdb_cursor.executemany(query_insert, data_tuples)\n",
    "duckdb_conn.commit()\n",
    "\n",
    "query_select = \"SELECT * FROM states_info\"\n",
    "duckdb_cursor.execute(query_select)\n",
    "\n",
    "# Fetch and print the results\n",
    "result = duckdb_cursor.fetchall()\n",
    "for row in result[:10]:\n",
    "    print(row)\n",
    "duckdb_cursor.close()\n",
    "duckdb_conn.close()"
   ]
  },
  {
   "cell_type": "code",
   "execution_count": 4,
   "id": "a45dd282-454b-4b67-9bd0-879cfc8608ed",
   "metadata": {},
   "outputs": [
    {
     "name": "stdout",
     "output_type": "stream",
     "text": [
      "<class 'pandas.core.frame.DataFrame'>\n",
      "RangeIndex: 41417 entries, 0 to 41416\n",
      "Data columns (total 9 columns):\n",
      " #   Column      Non-Null Count  Dtype  \n",
      "---  ------      --------------  -----  \n",
      " 0   Unnamed: 0  41417 non-null  int64  \n",
      " 1   zip_code    41417 non-null  int64  \n",
      " 2   city        41417 non-null  object \n",
      " 3   state       41417 non-null  object \n",
      " 4   county      41363 non-null  object \n",
      " 5   timezone    41413 non-null  object \n",
      " 6   area_codes  41417 non-null  object \n",
      " 7   lat         41417 non-null  float64\n",
      " 8   lon         41417 non-null  float64\n",
      "dtypes: float64(2), int64(2), object(5)\n",
      "memory usage: 2.8+ MB\n"
     ]
    }
   ],
   "source": [
    "df_states_zip.info()"
   ]
  },
  {
   "cell_type": "markdown",
   "id": "bee18cf4-5562-4f23-8550-3467aaea0759",
   "metadata": {},
   "source": [
    "### sales tax"
   ]
  },
  {
   "cell_type": "code",
   "execution_count": 19,
   "id": "7bc25e6c-d165-4f31-8459-95cd6dcdc330",
   "metadata": {},
   "outputs": [
    {
     "name": "stdout",
     "output_type": "stream",
     "text": [
      "[(0, 0.03999999910593033, 0.0, 0.03999999910593033, 0.10000000149011612, 35004.0), (0, 0.03999999910593033, 0.0, 0.03999999910593033, 0.10000000149011612, 35173.0), (0, 0.029999999329447746, 0.029999999329447746, 0.03999999910593033, 0.10000000149011612, 35444.0), (0, 0.04500000178813934, 0.009999999776482582, 0.03999999910593033, 0.0949999988079071, 35634.0), (0, 0.03999999910593033, 0.009999999776482582, 0.03999999910593033, 0.09000000357627869, 35962.0), (0, 0.03500000014901161, 0.02500000037252903, 0.03999999910593033, 0.10000000149011612, 36112.0), (0, 0.03500000014901161, 0.02500000037252903, 0.03999999910593033, 0.10000000149011612, 36420.0), (0, 0.0, 0.009999999776482582, 0.03999999910593033, 0.05000000074505806, 36583.0), (0, 0.03999999910593033, 0.009999999776482582, 0.03999999910593033, 0.09000000357627869, 36849.0), (0, 0.03999999910593033, 0.0, 0.0, 0.03999999910593033, 99585.0)]\n"
     ]
    }
   ],
   "source": [
    "import duckdb\n",
    "duckdb_conn = duckdb.connect(database=':memory:')\n",
    "duckdb_cursor = duckdb_conn.cursor()\n",
    "\n",
    "import psycopg2\n",
    "host=\"13.43.84.151\"\n",
    "dbname=\"postgres\"\n",
    "user=\"ping-fan.chen.23@ucl.ac.uk\"\n",
    "password=\"khsLcR\"\n",
    "port=\"5432\"\n",
    "schema=\"schema_pingfanchen23uclacuk\"\n",
    "conn = psycopg2.connect(\n",
    "    host=host,\n",
    "    database=dbname,\n",
    "    user=user,\n",
    "    password=password,\n",
    "    port=port\n",
    ")\n",
    "cur = conn.cursor()\n",
    "cur.execute(\"SELECT * FROM schema_pingfanchen23uclacuk.sale_tax_by_zip;\")\n",
    "data = cur.fetchall()\n",
    "\n",
    "query = \"CREATE TABLE sales_tax (\\\n",
    "zip_code INT64 PRIMARY KEY FOREIGN KEY REFERENCES states_info(zip_code),\\\n",
    "additional_rate FLOAT,\\\n",
    "city_rate FLOAT,\\\n",
    "county_rate FLOAT,\\\n",
    "state_rate FLOAT,\\\n",
    "total_rate FLOAT\\\n",
    ");\\\n",
    "\"\n",
    "duckdb_cursor.execute(query)\n",
    "\n",
    "query_insert = \"\"\"\n",
    "INSERT INTO sales_tax VALUES (?, ?, ?, ?, ?, ?);\"\"\"\n",
    "\n",
    "duckdb_cursor.executemany(query_insert, data)\n",
    "duckdb_conn.commit()\n",
    "\n",
    "query_select = \"SELECT * FROM sales_tax\"\n",
    "duckdb_cursor.execute(query_select)\n",
    "\n",
    "# Fetch and print the results\n",
    "result = duckdb_cursor.fetchall()\n",
    "print(result[:10])\n",
    "duckdb_cursor.close()\n",
    "duckdb_conn.close()\n",
    "cur.close()\n",
    "conn.close()"
   ]
  },
  {
   "cell_type": "markdown",
   "id": "6412807a-251a-46b2-930d-5111dd675d35",
   "metadata": {},
   "source": [
    "### Median rental price"
   ]
  },
  {
   "cell_type": "code",
   "execution_count": 92,
   "id": "344ba09b-fe23-4936-856d-83dca6bb899d",
   "metadata": {},
   "outputs": [],
   "source": [
    "def reshape_table(column,df):\n",
    "    table = df[column].reset_index()\n",
    "    city,state = column[0].split(',')\n",
    "    table['State'] = state\n",
    "    table['City']=city\n",
    "    table['Price'] = table[column]\n",
    "    table['Time'] = table['index']\n",
    "    table = table[['State','City','Time','Price']]\n",
    "    return table"
   ]
  },
  {
   "cell_type": "code",
   "execution_count": 93,
   "id": "8ad2b91b-bbd4-46c0-a3fc-f71d0640c25c",
   "metadata": {},
   "outputs": [],
   "source": [
    "import pandas as pd\n",
    "df_median = pd.read_csv('median_rental_price.csv',skiprows=0)\n",
    "df_median = df_median.loc[1:,df_median.columns[~df_median.columns.isin(['RegionID','SizeRank','RegionType'])]]\n",
    "# df_median.groupby('StateName', group_keys=True)[df_median.columns].apply(lambda x: x)\n",
    "df = pd.DataFrame(df_median[df_median.columns[2:]].values.T,index = df_median.columns[2:],columns= [df_median['RegionName'].values])\n",
    "df.reset_index(names='Time').head()\n",
    "lst = []\n",
    "for column in df.columns[1:]:\n",
    "    lst.append(reshape_table(column,df))"
   ]
  },
  {
   "cell_type": "code",
   "execution_count": 102,
   "id": "96d2aee4-d6ae-4e13-9570-da55a78946bc",
   "metadata": {},
   "outputs": [],
   "source": [
    "# df = pd.concat(lst)\n",
    "# df.columns = ['State','City','Time','Price']\n",
    "df['State'].astype('str')\n",
    "df['City'].astype('str')\n",
    "df.dropna(subset = ['Price'],inplace=True)"
   ]
  },
  {
   "cell_type": "code",
   "execution_count": 117,
   "id": "4ed9a8a0-dffd-453e-bcc3-1bce3956de5d",
   "metadata": {},
   "outputs": [
    {
     "name": "stdout",
     "output_type": "stream",
     "text": [
      "<class 'pandas.core.frame.DataFrame'>\n",
      "Int64Index: 104977 entries, 0 to 190\n",
      "Data columns (total 4 columns):\n",
      " #   Column  Non-Null Count   Dtype  \n",
      "---  ------  --------------   -----  \n",
      " 0   State   104977 non-null  object \n",
      " 1   City    104977 non-null  object \n",
      " 2   Time    104977 non-null  object \n",
      " 3   Price   104977 non-null  float64\n",
      "dtypes: float64(1), object(3)\n",
      "memory usage: 4.0+ MB\n"
     ]
    }
   ],
   "source": [
    "df.info()\n",
    "df.to_csv('median_rent_price.csv',index=False)"
   ]
  },
  {
   "cell_type": "code",
   "execution_count": 118,
   "id": "fdb07d9c-5d45-4406-a026-e9f1319cb772",
   "metadata": {},
   "outputs": [
    {
     "name": "stdout",
     "output_type": "stream",
     "text": [
      "(' CA', 'Los Angeles', datetime.datetime(2008, 2, 29, 0, 0), 470000.0)\n",
      "(' CA', 'Los Angeles', datetime.datetime(2008, 3, 31, 0, 0), 456000.0)\n",
      "(' CA', 'Los Angeles', datetime.datetime(2008, 4, 30, 0, 0), 457000.0)\n",
      "(' CA', 'Los Angeles', datetime.datetime(2008, 5, 31, 0, 0), 440000.0)\n",
      "(' CA', 'Los Angeles', datetime.datetime(2008, 6, 30, 0, 0), 435000.0)\n",
      "(' CA', 'Los Angeles', datetime.datetime(2008, 7, 31, 0, 0), 420000.0)\n",
      "(' CA', 'Los Angeles', datetime.datetime(2008, 8, 31, 0, 0), 402250.0)\n",
      "(' CA', 'Los Angeles', datetime.datetime(2008, 9, 30, 0, 0), 379000.0)\n",
      "(' CA', 'Los Angeles', datetime.datetime(2008, 10, 31, 0, 0), 370050.0)\n",
      "(' CA', 'Los Angeles', datetime.datetime(2008, 11, 30, 0, 0), 350000.0)\n"
     ]
    }
   ],
   "source": [
    "import duckdb\n",
    "duckdb_conn = duckdb.connect(database=':memory:')\n",
    "duckdb_cursor = duckdb_conn.cursor()\n",
    "import pandas as pd\n",
    "df_median = pd.read_csv('median_rent_price.csv')\n",
    "\n",
    "query = \"CREATE TABLE median_rental_price (\\\n",
    "State VARCHAR FOREIGN KEY REFERENCES states_info(state),\\\n",
    "City VARCHAR FOREIGN KEY REFERENCES states_info(city),\\\n",
    "Time DATETIME,\\\n",
    "Price FLOAT);\\\n",
    "\"\n",
    "duckdb_cursor.execute(query)\n",
    "\n",
    "\n",
    "query_insert = \"\"\"\n",
    "INSERT INTO median_rental_price VALUES (?, ?, ?, ?);\n",
    "\"\"\"\n",
    "duckdb_cursor.executemany(query_insert, df_median.values.tolist())\n",
    "duckdb_conn.commit()\n",
    "\n",
    "query_select = \"SELECT * FROM median_rental_price\"\n",
    "duckdb_cursor.execute(query_select)\n",
    "\n",
    "# Fetch and print the results\n",
    "result = duckdb_cursor.fetchall()\n",
    "for row in result[:10]:\n",
    "    print(row)\n",
    "duckdb_cursor.close()\n",
    "duckdb_conn.close()"
   ]
  },
  {
   "cell_type": "code",
   "execution_count": null,
   "id": "f8ec05d2-8660-457b-84c9-7209456261c8",
   "metadata": {},
   "outputs": [],
   "source": []
  }
 ],
 "metadata": {
  "ai8-sym": {
   "notebook_id": "51355e60-5f3c-4b5e-8420-7a00c6386da3"
  },
  "kernelspec": {
   "display_name": "Python 3 (ipykernel)",
   "language": "python",
   "name": "python3"
  },
  "language_info": {
   "codemirror_mode": {
    "name": "ipython",
    "version": 3
   },
   "file_extension": ".py",
   "mimetype": "text/x-python",
   "name": "python",
   "nbconvert_exporter": "python",
   "pygments_lexer": "ipython3",
   "version": "3.11.6"
  }
 },
 "nbformat": 4,
 "nbformat_minor": 5
}
